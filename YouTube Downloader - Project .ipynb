{
 "cells": [
  {
   "cell_type": "code",
   "execution_count": 1,
   "id": "03ee9536",
   "metadata": {},
   "outputs": [
    {
     "name": "stdout",
     "output_type": "stream",
     "text": [
      "Requirement already satisfied: pytube in c:\\users\\dell\\anaconda3\\lib\\site-packages (12.1.0)\n",
      "Note: you may need to restart the kernel to use updated packages.\n"
     ]
    }
   ],
   "source": [
    "pip install pytube"
   ]
  },
  {
   "cell_type": "code",
   "execution_count": 7,
   "id": "f1f8d51c",
   "metadata": {},
   "outputs": [
    {
     "name": "stdout",
     "output_type": "stream",
     "text": [
      "YouTube Downloader\n",
      "Enter your choice\n",
      "                1) Audio,\n",
      "                2) Audio and Video 2\n",
      "Paste the link: https://www.youtube.com/watch?v=4sp-x5E4itQ\n",
      "Where would you like to save your video? E:/\n",
      "Thank you for using YouTube Downloader\n"
     ]
    }
   ],
   "source": [
    "from pytube import *\n",
    "import os\n",
    "print(\"YouTube Downloader\")\n",
    "menu = int(input('''Enter your choice\n",
    "                1) Audio,\n",
    "                2) Audio and Video '''))\n",
    "link = input(\"Paste the link:\" +\" \")\n",
    "if menu == 1:\n",
    "    SAVE_PATH = input(\"Where would you like to save your video? \") \n",
    "    yt = YouTube(link)\n",
    "    audio = yt.streams.filter(only_audio=True).first()\n",
    "    audio_res = audio.download(SAVE_PATH)\n",
    "    base,ext = os.path.splitext(audio_res)\n",
    "    new_file = base + \".mp3\"\n",
    "    os.rename(audio_res,new_file)\n",
    "    print(yt.title + \"has been successfully downloaded!\")\n",
    "if menu == 2:\n",
    "    SAVE_PATH = input(\"Where would you like to save your video? \")                       \n",
    "    yt = YouTube(link)\n",
    "    stream = yt.streams.get_highest_resolution()\n",
    "    stream.download(SAVE_PATH)\n",
    "print(\"Thank you for using YouTube Downloader\")"
   ]
  },
  {
   "cell_type": "code",
   "execution_count": null,
   "id": "73c056d8",
   "metadata": {},
   "outputs": [],
   "source": []
  }
 ],
 "metadata": {
  "kernelspec": {
   "display_name": "Python 3 (ipykernel)",
   "language": "python",
   "name": "python3"
  },
  "language_info": {
   "codemirror_mode": {
    "name": "ipython",
    "version": 3
   },
   "file_extension": ".py",
   "mimetype": "text/x-python",
   "name": "python",
   "nbconvert_exporter": "python",
   "pygments_lexer": "ipython3",
   "version": "3.9.12"
  }
 },
 "nbformat": 4,
 "nbformat_minor": 5
}
